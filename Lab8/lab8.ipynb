{
 "cells": [
  {
   "cell_type": "code",
   "execution_count": 4,
   "metadata": {},
   "outputs": [],
   "source": [
    "from PIL import Image\n",
    "import binascii\n",
    "from binascii import unhexlify\n",
    "import codecs\n",
    "import optparse\n",
    "\n",
    "def rgb2hex(r, g, b):\n",
    "    return '#{:02x}{:02x}{:02x}'.format(r, g, b)\n",
    "\n",
    "def hex2rgb(hexcode):\n",
    "    return unhexlify(bytes(map(ord, hexcode[1:])))\n",
    "\n",
    "def str2bin(message):\n",
    "    binary = bin(int(binascii.hexlify(message.encode(\"ascii\")), 16))\n",
    "    return binary[2:]\n",
    "\n",
    "def bin2str(binary):\n",
    "    message = binascii.unhexlify('%x' % (int('0b' + binary, 2)))\n",
    "    return message\n",
    "\n",
    "def encode(hexcode, digit):\n",
    "    if hexcode[-1] in ('0', '1', '2', '3', '4', '5'):\n",
    "        hexcode = hexcode[:-1] + digit\n",
    "        return hexcode\n",
    "    else:\n",
    "        return None\n",
    "\n",
    "def decode(hexcode):\n",
    "    if hexcode[-1] in ('0', '1'):\n",
    "        return hexcode[-1]\n",
    "    else:\n",
    "        return None\n",
    "\n",
    "def hide(filename, message):\n",
    "    img = Image.open(filename)\n",
    "    binary = str2bin(message) + '1111111111111110'\n",
    "    if img.mode in ('RGBA'):\n",
    "        img = img.convert('RGBA')\n",
    "        datas = img.getdata()\n",
    "        newData = []\n",
    "        digit = 0\n",
    "        temp = ''\n",
    "        for item in datas:\n",
    "            if (digit < len(binary)):\n",
    "                newpix = encode(rgb2hex(item[0],item[1],item[2]),binary[digit])\n",
    "                if newpix == None:\n",
    "                    newData.append(item)\n",
    "                else:\n",
    "                    r, g, b = hex2rgb(newpix)\n",
    "                    newData.append((r,g,b,255))\n",
    "                    digit += 1\n",
    "            else:\n",
    "                newData.append(item)\n",
    "        img.putdata(newData)\n",
    "        img.save(filename, \"PNG\")\n",
    "        return \"Completed!\"\n",
    "    return \"Incorrect Image Mode, Couldn't Hide\"\n",
    "\n",
    "def retr(filename):\n",
    "    img = Image.open(filename)\n",
    "    binary = ''\n",
    "\n",
    "    if img.mode in ('RGBA'):\n",
    "        img = img.convert('RGBA')\n",
    "        datas = img.getdata()\n",
    "\n",
    "        for item in datas:\n",
    "            digit = decode(rgb2hex(item[0], item[1], item[2]))\n",
    "            if digit == None:\n",
    "                pass\n",
    "            else:\n",
    "                binary = binary + digit\n",
    "                if (binary[-16:] == '1111111111111110'):\n",
    "                    print(\"Success\")\n",
    "                    return bin2str(binary[:-16])\n",
    "\n",
    "        return bin2str(binary)\n",
    "    return \"Incorrect Image Mode, Couldn't Retrieve\"\n"
   ]
  },
  {
   "cell_type": "code",
   "execution_count": 5,
   "metadata": {},
   "outputs": [
    {
     "name": "stderr",
     "output_type": "stream",
     "text": [
      "Usage: usage ipykernel_launcher.py -e/-d <target file>\n",
      "\n",
      "ipykernel_launcher.py: error: no such option: -f\n"
     ]
    },
    {
     "ename": "SystemExit",
     "evalue": "2",
     "output_type": "error",
     "traceback": [
      "An exception has occurred, use %tb to see the full traceback.\n",
      "\u001b[0;31mSystemExit\u001b[0m\u001b[0;31m:\u001b[0m 2\n"
     ]
    }
   ],
   "source": [
    "parser = optparse.OptionParser('usage %prog ' + '-e/-d <target file>')\n",
    "parser.add_option('-e', dest='hide', type='string', help='target picture path to hide text')\n",
    "parser.add_option('-d', dest='retr', type='string', help='target picture path to retrieve text')\n",
    "(options, args) = parser.parse_args()\n",
    "if (options.hide != None):\n",
    "    text = input(\"Enter a message to hide: \")\n",
    "    print(hide(options.hide, text))\n",
    "elif (options.retr != None):\n",
    "    print(retr(options.retr))\n",
    "else:\n",
    "    print(parser.usage)\n",
    "    exit(0)"
   ]
  },
  {
   "cell_type": "code",
   "execution_count": null,
   "metadata": {},
   "outputs": [],
   "source": []
  }
 ],
 "metadata": {
  "kernelspec": {
   "display_name": "Python 3",
   "language": "python",
   "name": "python3"
  },
  "language_info": {
   "codemirror_mode": {
    "name": "ipython",
    "version": 3
   },
   "file_extension": ".py",
   "mimetype": "text/x-python",
   "name": "python",
   "nbconvert_exporter": "python",
   "pygments_lexer": "ipython3",
   "version": "3.7.4"
  }
 },
 "nbformat": 4,
 "nbformat_minor": 2
}
